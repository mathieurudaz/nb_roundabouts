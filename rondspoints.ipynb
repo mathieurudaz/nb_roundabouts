{
 "cells": [
  {
   "cell_type": "code",
   "execution_count": 134,
   "metadata": {},
   "outputs": [],
   "source": [
    "import pandas as pd\n",
    "import geopandas as gpd\n",
    "import glob\n",
    "import re\n",
    "%matplotlib inline"
   ]
  },
  {
   "cell_type": "markdown",
   "metadata": {},
   "source": [
    "## Get the list of file names"
   ]
  },
  {
   "cell_type": "code",
   "execution_count": 135,
   "metadata": {
    "collapsed": true
   },
   "outputs": [],
   "source": [
    "big_roundabouts_filenames = glob.glob(\"./OSM data/polygons/cleaned-*.geojson\")\n",
    "small_roundabouts_filenames = glob.glob(\"./OSM data/points/singleparts-*.geojson\")"
   ]
  },
  {
   "cell_type": "markdown",
   "metadata": {},
   "source": [
    "## Turn those into a list of dataframes"
   ]
  },
  {
   "cell_type": "code",
   "execution_count": 136,
   "metadata": {},
   "outputs": [
    {
     "name": "stderr",
     "output_type": "stream",
     "text": [
      "WARNING:Fiona:PROJ data files not located, PROJ_LIB not set\n",
      "WARNING:Fiona:PROJ data files not located, PROJ_LIB not set\n",
      "WARNING:Fiona:PROJ data files not located, PROJ_LIB not set\n",
      "WARNING:Fiona:PROJ data files not located, PROJ_LIB not set\n",
      "WARNING:Fiona:PROJ data files not located, PROJ_LIB not set\n",
      "WARNING:Fiona:PROJ data files not located, PROJ_LIB not set\n",
      "WARNING:Fiona:PROJ data files not located, PROJ_LIB not set\n",
      "WARNING:Fiona:PROJ data files not located, PROJ_LIB not set\n",
      "WARNING:Fiona:PROJ data files not located, PROJ_LIB not set\n",
      "WARNING:Fiona:PROJ data files not located, PROJ_LIB not set\n",
      "WARNING:Fiona:PROJ data files not located, PROJ_LIB not set\n",
      "WARNING:Fiona:PROJ data files not located, PROJ_LIB not set\n",
      "WARNING:Fiona:PROJ data files not located, PROJ_LIB not set\n",
      "WARNING:Fiona:PROJ data files not located, PROJ_LIB not set\n",
      "WARNING:Fiona:PROJ data files not located, PROJ_LIB not set\n",
      "WARNING:Fiona:PROJ data files not located, PROJ_LIB not set\n",
      "WARNING:Fiona:PROJ data files not located, PROJ_LIB not set\n",
      "WARNING:Fiona:PROJ data files not located, PROJ_LIB not set\n",
      "WARNING:Fiona:PROJ data files not located, PROJ_LIB not set\n",
      "WARNING:Fiona:PROJ data files not located, PROJ_LIB not set\n",
      "WARNING:Fiona:PROJ data files not located, PROJ_LIB not set\n",
      "WARNING:Fiona:PROJ data files not located, PROJ_LIB not set\n",
      "WARNING:Fiona:PROJ data files not located, PROJ_LIB not set\n",
      "WARNING:Fiona:PROJ data files not located, PROJ_LIB not set\n",
      "WARNING:Fiona:PROJ data files not located, PROJ_LIB not set\n",
      "WARNING:Fiona:PROJ data files not located, PROJ_LIB not set\n",
      "WARNING:Fiona:PROJ data files not located, PROJ_LIB not set\n",
      "WARNING:Fiona:PROJ data files not located, PROJ_LIB not set\n",
      "WARNING:Fiona:PROJ data files not located, PROJ_LIB not set\n",
      "WARNING:Fiona:PROJ data files not located, PROJ_LIB not set\n",
      "WARNING:Fiona:PROJ data files not located, PROJ_LIB not set\n",
      "WARNING:Fiona:PROJ data files not located, PROJ_LIB not set\n",
      "WARNING:Fiona:PROJ data files not located, PROJ_LIB not set\n",
      "WARNING:Fiona:PROJ data files not located, PROJ_LIB not set\n",
      "WARNING:Fiona:PROJ data files not located, PROJ_LIB not set\n",
      "WARNING:Fiona:PROJ data files not located, PROJ_LIB not set\n",
      "WARNING:Fiona:PROJ data files not located, PROJ_LIB not set\n",
      "WARNING:Fiona:PROJ data files not located, PROJ_LIB not set\n",
      "WARNING:Fiona:PROJ data files not located, PROJ_LIB not set\n",
      "WARNING:Fiona:PROJ data files not located, PROJ_LIB not set\n",
      "WARNING:Fiona:PROJ data files not located, PROJ_LIB not set\n",
      "WARNING:Fiona:PROJ data files not located, PROJ_LIB not set\n",
      "WARNING:Fiona:PROJ data files not located, PROJ_LIB not set\n",
      "WARNING:Fiona:PROJ data files not located, PROJ_LIB not set\n",
      "WARNING:Fiona:PROJ data files not located, PROJ_LIB not set\n"
     ]
    }
   ],
   "source": [
    "big_roundabouts_dfs = [gpd.read_file(f) for f in big_roundabouts_filenames]\n",
    "small_roundabouts_dfs = [gpd.read_file(f) for f in small_roundabouts_filenames]"
   ]
  },
  {
   "cell_type": "markdown",
   "metadata": {},
   "source": [
    "## Add the canton's name to each dataframe"
   ]
  },
  {
   "cell_type": "code",
   "execution_count": 137,
   "metadata": {},
   "outputs": [],
   "source": [
    "for dataframe, filename in zip(big_roundabouts_dfs, big_roundabouts_filenames):\n",
    "  dataframe['canton'] = re.findall(\"buffer-([^\\s]+)\", filename)[0]\n",
    "    \n",
    "for dataframe, filename in zip(small_roundabouts_dfs, small_roundabouts_filenames):\n",
    "  dataframe['canton'] = re.findall(\"buffer-([^\\s]+)\", filename)[0]"
   ]
  },
  {
   "cell_type": "markdown",
   "metadata": {},
   "source": [
    "## Add the type of each roundabout"
   ]
  },
  {
   "cell_type": "code",
   "execution_count": 138,
   "metadata": {
    "collapsed": true
   },
   "outputs": [],
   "source": [
    "for df in small_roundabouts_dfs:\n",
    "    df[\"mini_roundabout\"] = True\n",
    "    \n",
    "for df in big_roundabouts_dfs:\n",
    "    df[\"mini_roundabout\"] = False"
   ]
  },
  {
   "cell_type": "code",
   "execution_count": 139,
   "metadata": {},
   "outputs": [
    {
     "data": {
      "text/html": [
       "<div>\n",
       "<style>\n",
       "    .dataframe thead tr:only-child th {\n",
       "        text-align: right;\n",
       "    }\n",
       "\n",
       "    .dataframe thead th {\n",
       "        text-align: left;\n",
       "    }\n",
       "\n",
       "    .dataframe tbody tr th {\n",
       "        vertical-align: top;\n",
       "    }\n",
       "</style>\n",
       "<table border=\"1\" class=\"dataframe\">\n",
       "  <thead>\n",
       "    <tr style=\"text-align: right;\">\n",
       "      <th></th>\n",
       "      <th>ID</th>\n",
       "      <th>geometry</th>\n",
       "      <th>canton</th>\n",
       "      <th>mini_roundabout</th>\n",
       "    </tr>\n",
       "  </thead>\n",
       "  <tbody>\n",
       "    <tr>\n",
       "      <th>0</th>\n",
       "      <td>0</td>\n",
       "      <td>POLYGON ((358816.9188046959 5254207.012753255,...</td>\n",
       "      <td>jura</td>\n",
       "      <td>True</td>\n",
       "    </tr>\n",
       "    <tr>\n",
       "      <th>1</th>\n",
       "      <td>1</td>\n",
       "      <td>POLYGON ((374341.0126722155 5245568.314472191,...</td>\n",
       "      <td>jura</td>\n",
       "      <td>True</td>\n",
       "    </tr>\n",
       "    <tr>\n",
       "      <th>2</th>\n",
       "      <td>2</td>\n",
       "      <td>POLYGON ((355170.5460184894 5253737.834250424,...</td>\n",
       "      <td>jura</td>\n",
       "      <td>True</td>\n",
       "    </tr>\n",
       "    <tr>\n",
       "      <th>3</th>\n",
       "      <td>3</td>\n",
       "      <td>POLYGON ((355112.9577420084 5253762.663368664,...</td>\n",
       "      <td>jura</td>\n",
       "      <td>True</td>\n",
       "    </tr>\n",
       "    <tr>\n",
       "      <th>4</th>\n",
       "      <td>4</td>\n",
       "      <td>POLYGON ((348984.3435450751 5250623.196992285,...</td>\n",
       "      <td>jura</td>\n",
       "      <td>True</td>\n",
       "    </tr>\n",
       "  </tbody>\n",
       "</table>\n",
       "</div>"
      ],
      "text/plain": [
       "   ID                                           geometry canton  \\\n",
       "0   0  POLYGON ((358816.9188046959 5254207.012753255,...   jura   \n",
       "1   1  POLYGON ((374341.0126722155 5245568.314472191,...   jura   \n",
       "2   2  POLYGON ((355170.5460184894 5253737.834250424,...   jura   \n",
       "3   3  POLYGON ((355112.9577420084 5253762.663368664,...   jura   \n",
       "4   4  POLYGON ((348984.3435450751 5250623.196992285,...   jura   \n",
       "\n",
       "   mini_roundabout  \n",
       "0             True  \n",
       "1             True  \n",
       "2             True  \n",
       "3             True  \n",
       "4             True  "
      ]
     },
     "execution_count": 139,
     "metadata": {},
     "output_type": "execute_result"
    }
   ],
   "source": [
    "small_roundabouts_dfs[0].head()"
   ]
  },
  {
   "cell_type": "code",
   "execution_count": 140,
   "metadata": {},
   "outputs": [
    {
     "data": {
      "text/html": [
       "<div>\n",
       "<style>\n",
       "    .dataframe thead tr:only-child th {\n",
       "        text-align: right;\n",
       "    }\n",
       "\n",
       "    .dataframe thead th {\n",
       "        text-align: left;\n",
       "    }\n",
       "\n",
       "    .dataframe tbody tr th {\n",
       "        vertical-align: top;\n",
       "    }\n",
       "</style>\n",
       "<table border=\"1\" class=\"dataframe\">\n",
       "  <thead>\n",
       "    <tr style=\"text-align: right;\">\n",
       "      <th></th>\n",
       "      <th>ID</th>\n",
       "      <th>geometry</th>\n",
       "      <th>canton</th>\n",
       "      <th>mini_roundabout</th>\n",
       "    </tr>\n",
       "  </thead>\n",
       "  <tbody>\n",
       "    <tr>\n",
       "      <th>0</th>\n",
       "      <td>0</td>\n",
       "      <td>POLYGON ((8.274727983906008 46.9474536483493, ...</td>\n",
       "      <td>obwald</td>\n",
       "      <td>False</td>\n",
       "    </tr>\n",
       "    <tr>\n",
       "      <th>1</th>\n",
       "      <td>1</td>\n",
       "      <td>POLYGON ((8.270112773713345 46.93781410532457,...</td>\n",
       "      <td>obwald</td>\n",
       "      <td>False</td>\n",
       "    </tr>\n",
       "    <tr>\n",
       "      <th>2</th>\n",
       "      <td>2</td>\n",
       "      <td>POLYGON ((8.275610335338715 46.93612074383902,...</td>\n",
       "      <td>obwald</td>\n",
       "      <td>False</td>\n",
       "    </tr>\n",
       "    <tr>\n",
       "      <th>3</th>\n",
       "      <td>3</td>\n",
       "      <td>POLYGON ((8.273166289781191 46.90133781740725,...</td>\n",
       "      <td>obwald</td>\n",
       "      <td>False</td>\n",
       "    </tr>\n",
       "    <tr>\n",
       "      <th>4</th>\n",
       "      <td>4</td>\n",
       "      <td>POLYGON ((8.275385069055552 46.90069110547771,...</td>\n",
       "      <td>obwald</td>\n",
       "      <td>False</td>\n",
       "    </tr>\n",
       "  </tbody>\n",
       "</table>\n",
       "</div>"
      ],
      "text/plain": [
       "   ID                                           geometry  canton  \\\n",
       "0   0  POLYGON ((8.274727983906008 46.9474536483493, ...  obwald   \n",
       "1   1  POLYGON ((8.270112773713345 46.93781410532457,...  obwald   \n",
       "2   2  POLYGON ((8.275610335338715 46.93612074383902,...  obwald   \n",
       "3   3  POLYGON ((8.273166289781191 46.90133781740725,...  obwald   \n",
       "4   4  POLYGON ((8.275385069055552 46.90069110547771,...  obwald   \n",
       "\n",
       "   mini_roundabout  \n",
       "0            False  \n",
       "1            False  \n",
       "2            False  \n",
       "3            False  \n",
       "4            False  "
      ]
     },
     "execution_count": 140,
     "metadata": {},
     "output_type": "execute_result"
    }
   ],
   "source": [
    "big_roundabouts_dfs[0].head()"
   ]
  },
  {
   "cell_type": "markdown",
   "metadata": {},
   "source": [
    "## Combine the dataframes"
   ]
  },
  {
   "cell_type": "code",
   "execution_count": 141,
   "metadata": {},
   "outputs": [],
   "source": [
    "# EPSG: 4326\n",
    "df_small_roundabouts = pd.concat(small_roundabouts_dfs, ignore_index=True)\n",
    "# EPSG: 32632\n",
    "df_big_roundabouts = pd.concat(big_roundabouts_dfs, ignore_index=True)"
   ]
  },
  {
   "cell_type": "markdown",
   "metadata": {},
   "source": [
    "### Set the same CRS to the two dataframes"
   ]
  },
  {
   "cell_type": "code",
   "execution_count": 142,
   "metadata": {
    "collapsed": true
   },
   "outputs": [],
   "source": [
    "df_big_roundabouts = df_big_roundabouts.to_crs(df_small_roundabouts.crs)"
   ]
  },
  {
   "cell_type": "markdown",
   "metadata": {},
   "source": [
    "### Combine the roundabouts and mini-roundabouts"
   ]
  },
  {
   "cell_type": "code",
   "execution_count": 143,
   "metadata": {},
   "outputs": [],
   "source": [
    "df_roundabouts = pd.concat([df_small_roundabouts, df_big_roundabouts], ignore_index=True)"
   ]
  },
  {
   "cell_type": "code",
   "execution_count": 144,
   "metadata": {},
   "outputs": [
    {
     "data": {
      "text/plain": [
       "<matplotlib.axes._subplots.AxesSubplot at 0x1210a80f0>"
      ]
     },
     "execution_count": 144,
     "metadata": {},
     "output_type": "execute_result"
    },
    {
     "data": {
      "image/png": "[encoded data removed]",
      "text/plain": [
       "<matplotlib.figure.Figure at 0x1210a8dd8>"
      ]
     },
     "metadata": {},
     "output_type": "display_data"
    }
   ],
   "source": [
    "df_roundabouts.plot()"
   ]
  },
  {
   "cell_type": "markdown",
   "metadata": {},
   "source": [
    "## Save the result"
   ]
  },
  {
   "cell_type": "code",
   "execution_count": 147,
   "metadata": {},
   "outputs": [],
   "source": [
    "df_roundabouts.drop(\"ID\", axis=1, inplace=True)"
   ]
  },
  {
   "cell_type": "code",
   "execution_count": 148,
   "metadata": {
    "collapsed": true
   },
   "outputs": [],
   "source": [
    "with open(\"ch_roundabouts.geojson\", \"w\") as f:\n",
    "    f.write(df_roundabouts.to_json())"
   ]
  },
  {
   "cell_type": "code",
   "execution_count": null,
   "metadata": {
    "collapsed": true
   },
   "outputs": [],
   "source": []
  }
 ],
 "metadata": {
  "kernelspec": {
   "display_name": "Python 3",
   "language": "python",
   "name": "python3"
  },
  "language_info": {
   "codemirror_mode": {
    "name": "ipython",
    "version": 3
   },
   "file_extension": ".py",
   "mimetype": "text/x-python",
   "name": "python",
   "nbconvert_exporter": "python",
   "pygments_lexer": "ipython3",
   "version": "3.6.3"
  }
 },
 "nbformat": 4,
 "nbformat_minor": 2
}
